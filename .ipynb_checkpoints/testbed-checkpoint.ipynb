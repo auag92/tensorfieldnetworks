{
 "cells": [
  {
   "cell_type": "code",
   "execution_count": 1,
   "metadata": {},
   "outputs": [],
   "source": [
    "%load_ext autoreload\n",
    "%autoreload 2"
   ]
  },
  {
   "cell_type": "code",
   "execution_count": 2,
   "metadata": {},
   "outputs": [
    {
     "name": "stderr",
     "output_type": "stream",
     "text": [
      "/home/apaar/anaconda3/lib/python3.6/site-packages/h5py/__init__.py:36: FutureWarning: Conversion of the second argument of issubdtype from `float` to `np.floating` is deprecated. In future, it will be treated as `np.float64 == np.dtype(float).type`.\n",
      "  from ._conv import register_converters as _register_converters\n"
     ]
    }
   ],
   "source": [
    "%matplotlib inline\n",
    "\n",
    "import matplotlib\n",
    "import numpy as np\n",
    "import matplotlib.pyplot as plt\n",
    "import matplotlib.animation as anim\n",
    "import tensorflow as tf\n",
    "import random\n",
    "from math import pi, sqrt\n",
    "import tensorfieldnetworks.layers as layers"
   ]
  },
  {
   "cell_type": "code",
   "execution_count": 23,
   "metadata": {},
   "outputs": [],
   "source": [
    "import tensorfieldnetworks.utils as utils\n",
    "from tensorfieldnetworks.utils import FLOAT_TYPE"
   ]
  },
  {
   "cell_type": "code",
   "execution_count": 18,
   "metadata": {},
   "outputs": [],
   "source": [
    "training_set_size = 1000\n",
    "from ase.db import connect"
   ]
  },
  {
   "cell_type": "code",
   "execution_count": 22,
   "metadata": {},
   "outputs": [],
   "source": [
    "with connect('qm9.db') as conn:\n",
    "    qm9_coords = []\n",
    "    qm9_atoms = []\n",
    "    qm9_test_coords = []\n",
    "    qm9_test_atoms = []\n",
    "    qm9_test_23_coords = []\n",
    "    qm9_test_23_atoms = []\n",
    "    qm9_test_29_coords = []\n",
    "    qm9_test_29_atoms = []\n",
    "    for atoms in conn.select('4<natoms<=18', limit=training_set_size):\n",
    "\n",
    "        qm9_coords.append(atoms.positions)\n",
    "        qm9_atoms.append(atoms.numbers)\n",
    "    for atoms in conn.select('natoms=19', limit=training_set_size):\n",
    "        qm9_test_coords.append(atoms.positions)\n",
    "        qm9_test_atoms.append(atoms.numbers)\n",
    "    for atoms in conn.select('natoms=23', limit=training_set_size):\n",
    "        qm9_test_23_coords.append(atoms.positions)\n",
    "        qm9_test_23_atoms.append(atoms.numbers)\n",
    "    for atoms in conn.select('24<natoms<=29', limit=training_set_size):\n",
    "        qm9_test_29_coords.append(atoms.positions)\n",
    "        qm9_test_29_atoms.append(atoms.numbers)"
   ]
  }
 ],
 "metadata": {
  "kernelspec": {
   "display_name": "Python 3",
   "language": "python",
   "name": "python3"
  },
  "language_info": {
   "codemirror_mode": {
    "name": "ipython",
    "version": 3
   },
   "file_extension": ".py",
   "mimetype": "text/x-python",
   "name": "python",
   "nbconvert_exporter": "python",
   "pygments_lexer": "ipython3",
   "version": "3.6.5"
  }
 },
 "nbformat": 4,
 "nbformat_minor": 2
}
