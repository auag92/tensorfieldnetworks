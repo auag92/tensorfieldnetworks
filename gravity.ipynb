{
 "cells": [
  {
   "cell_type": "markdown",
   "metadata": {},
   "source": [
    "Tensor Field Networks\n",
    "\n",
    "Implementation of Newtonian gravity demonstration"
   ]
  },
  {
   "cell_type": "code",
   "execution_count": 1,
   "metadata": {},
   "outputs": [],
   "source": [
    "%load_ext autoreload\n",
    "%autoreload 2"
   ]
  },
  {
   "cell_type": "code",
   "execution_count": 12,
   "metadata": {},
   "outputs": [],
   "source": [
    "from toolz.curried import pipe, map, curry"
   ]
  },
  {
   "cell_type": "code",
   "execution_count": 4,
   "metadata": {},
   "outputs": [],
   "source": [
    "%matplotlib inline\n",
    "\n",
    "import random\n",
    "from math import sqrt\n",
    "import tensorflow as tf\n",
    "import matplotlib\n",
    "import numpy as np\n",
    "import matplotlib.pyplot as plt\n",
    "from tensorfieldnetworks import utils, layers\n",
    "from tensorfieldnetworks.utils import EPSILON, FLOAT_TYPE"
   ]
  },
  {
   "cell_type": "code",
   "execution_count": 5,
   "metadata": {},
   "outputs": [],
   "source": [
    "# radial basis functions\n",
    "rbf_low = 0.\n",
    "rbf_high = 2.\n",
    "rbf_count = 30\n",
    "rbf_spacing = (rbf_high - rbf_low) / rbf_count\n",
    "centers = tf.lin_space(rbf_low, rbf_high, rbf_count)"
   ]
  },
  {
   "cell_type": "code",
   "execution_count": 6,
   "metadata": {},
   "outputs": [
    {
     "name": "stdout",
     "output_type": "stream",
     "text": [
      "WARNING:tensorflow:From /home/apaar/Projects/tensorfieldnetworks/tensorfieldnetworks/utils.py:32: calling reduce_sum (from tensorflow.python.ops.math_ops) with keep_dims is deprecated and will be removed in a future version.\n",
      "Instructions for updating:\n",
      "keep_dims is deprecated, use keepdims instead\n"
     ]
    }
   ],
   "source": [
    "# [N, 3]\n",
    "r = tf.placeholder(FLOAT_TYPE, shape=[None, 3])\n",
    "\n",
    "# [N, 1, 1]\n",
    "masses = tf.placeholder(FLOAT_TYPE, shape=[None, 1, 1])\n",
    "\n",
    "# [N, N, 3]\n",
    "rij = utils.difference_matrix(r)\n",
    "\n",
    "# [N, N]\n",
    "dij = utils.distance_matrix(r)\n",
    "\n",
    "# rbf : [N, N, rbf_count]\n",
    "gamma = 1. / rbf_spacing\n",
    "rbf = tf.exp(-gamma * tf.square(tf.expand_dims(dij, axis=-1) - centers))\n",
    "\n",
    "# shifted softplus\n",
    "nonlin = utils.ssp\n",
    "\n",
    "hidden_dim = rbf_count\n",
    "output_dim = 1\n",
    "\n",
    "# single layer, 0 -> 1\n",
    "with tf.variable_scope(None, \"layer1\", values=[masses]):\n",
    "    # [N, 1, 3]\n",
    "    output = layers.filter_1_output_1(masses, rbf, rij, nonlin=nonlin, \n",
    "                                      hidden_dim=hidden_dim, output_dim=output_dim, \n",
    "                                      weights_initializer=tf.glorot_uniform_initializer(),\n",
    "                                      biases_initializer=tf.glorot_uniform_initializer())\n",
    "    \n",
    "# accel : [N, 1, 3]\n",
    "accel = tf.placeholder(FLOAT_TYPE, shape=[None, 1, 3])\n",
    "\n",
    "# loss : []\n",
    "loss = tf.nn.l2_loss(accel - output)\n",
    "\n",
    "optim = tf.train.AdamOptimizer(learning_rate=1.e-3)\n",
    "\n",
    "train_op = optim.minimize(loss)"
   ]
  },
  {
   "cell_type": "code",
   "execution_count": 7,
   "metadata": {},
   "outputs": [],
   "source": [
    "# for plotting\n",
    "\n",
    "# x : []\n",
    "x = tf.placeholder(FLOAT_TYPE, shape=(None))\n",
    "\n",
    "# rbf_plot : [rbf_count]\n",
    "rbf_plot = tf.exp(-gamma * tf.square(x - centers))\n",
    "\n",
    "for v in tf.global_variables():\n",
    "    if 'layer1/F1_to_1/F_1/radial_function/weights1' in v.name and \"Adam\" not in v.name:\n",
    "        w1 = v\n",
    "    elif 'layer1/F1_to_1/F_1/radial_function/biases1' in v.name and \"Adam\" not in v.name:\n",
    "        b1 = v\n",
    "    elif 'layer1/F1_to_1/F_1/radial_function/weights2' in v.name and \"Adam\" not in v.name:\n",
    "        w2 = v\n",
    "    elif 'layer1/F1_to_1/F_1/radial_function/biases2' in v.name and \"Adam\" not in v.name:\n",
    "        b2 = v\n",
    "        \n",
    "hidden_layer_plot = nonlin(b1 + tf.tensordot(rbf_plot, w1, [[0], [1]]))\n",
    "R_plot = b2 + tf.tensordot(hidden_layer_plot, w2, [[0], [1]])"
   ]
  },
  {
   "cell_type": "code",
   "execution_count": 8,
   "metadata": {},
   "outputs": [],
   "source": [
    "def accelerations(points, masses=None):\n",
    "    \"\"\"\n",
    "    inputs:\n",
    "    -points: a list of 3-tuples of point coordinates\n",
    "    -masses: a list (of equal length N) of masses\n",
    "    \n",
    "    returns: \n",
    "    -shape [N, 3] numpy array of accelerations under Newtonian gravity\n",
    "    \"\"\"\n",
    "    accels = []\n",
    "    if masses is None:\n",
    "        masses = [1.0 for _ in range(len(points))]\n",
    "    for i, ri_ in enumerate(points):\n",
    "        accel_vec = np.array((0., 0., 0.))\n",
    "        for j, rj_ in enumerate(points):\n",
    "            rij_ = ri_ - rj_\n",
    "            dij_ = np.linalg.norm(rij_)\n",
    "            if (ri_ != rj_).any():\n",
    "                accel_update = -rij_ / (np.power(dij_, 3) + EPSILON) * masses[j]\n",
    "                accel_vec += accel_update\n",
    "        accels.append(accel_vec)\n",
    "    assert len(accels) == len(points)\n",
    "    return np.array(accels)\n",
    "\n",
    "\n",
    "def random_points_and_masses(max_points=10, min_mass=0.5, max_mass=2.0, \n",
    "                             max_coord=rbf_high, min_separation=0.5):\n",
    "    \"\"\"\n",
    "    returns:\n",
    "    -shape [N, 3] numpy array of points, where N is between 2 and max_points\n",
    "    -shape [N] numpy array of masses\n",
    "    \"\"\"\n",
    "    num_points = random.randint(2, max_points)\n",
    "    candidate_points = []\n",
    "    for point in xrange(num_points):\n",
    "        candidate_points.append(\n",
    "            np.array([random.uniform(-max_coord, max_coord) for _ in range(3)]))\n",
    "    \n",
    "    # remove points that are closer than min_separation\n",
    "    output_points = []\n",
    "    for point in candidate_points:\n",
    "        include_point = True\n",
    "        for previous_point in output_points:\n",
    "            if np.linalg.norm(point - previous_point) < min_separation:\n",
    "                include_point = False\n",
    "        if include_point:\n",
    "            output_points.append(point)\n",
    "    \n",
    "    points_ = np.array(output_points)\n",
    "    masses_ = np.random.rand(len(output_points)) * (max_mass - min_mass) + min_mass\n",
    "    return points_, masses_"
   ]
  },
  {
   "cell_type": "code",
   "execution_count": 13,
   "metadata": {},
   "outputs": [],
   "source": [
    "xrange = curry(range)"
   ]
  },
  {
   "cell_type": "code",
   "execution_count": 16,
   "metadata": {
    "scrolled": false
   },
   "outputs": [
    {
     "name": "stdout",
     "output_type": "stream",
     "text": [
      "Step 0: validation loss = 17321.238\n",
      "Step 1000: validation loss = 3.468\n",
      "CPU times: user 51.2 s, sys: 652 ms, total: 51.8 s\n",
      "Wall time: 47.8 s\n"
     ]
    }
   ],
   "source": [
    "%%time\n",
    "max_steps = 1001\n",
    "validation_size = 1000\n",
    "print_freq = 1000\n",
    "\n",
    "F1_y_vals = []\n",
    "x_vals = [index * rbf_high / rbf_count for index in xrange(rbf_count + 1)]\n",
    "\n",
    "sess = tf.Session()\n",
    "sess.run(tf.global_variables_initializer())\n",
    "\n",
    "# training\n",
    "min_separation = 0.5\n",
    "for step in xrange(max_steps):\n",
    "    rand_points, rand_masses = random_points_and_masses(max_points=10, \n",
    "                                                        min_separation=min_separation)\n",
    "    rand_masses_m = np.reshape(rand_masses, [len(rand_masses), 1, 1])\n",
    "    sess.run(train_op, feed_dict={r: rand_points, \n",
    "                                  masses: rand_masses_m, \n",
    "                                  accel: np.expand_dims(accelerations(rand_points,\n",
    "                                                                      rand_masses), axis=-2)})\n",
    "    \n",
    "    # print performance on different random point set every print_freq steps\n",
    "    if step % print_freq == 0:\n",
    "        loss_sum = 0.\n",
    "        for _ in xrange(validation_size):\n",
    "            validation_points, validation_masses = random_points_and_masses(max_points=50,\n",
    "                                                                            min_separation=min_separation)\n",
    "            validation_masses_m = np.reshape(validation_masses, [len(validation_masses), 1, 1])\n",
    "            validation_loss = sess.run(loss, feed_dict={r: validation_points, \n",
    "                                                        masses: validation_masses_m, \n",
    "                                                        accel: np.expand_dims(\n",
    "                                                            accelerations(validation_points, \n",
    "                                                                          validation_masses), axis=-2)})\n",
    "            loss_sum += validation_loss\n",
    "        print(\"Step %d: validation loss = %.3f\" % (step, loss_sum / validation_size))\n",
    "\n",
    "        # for plotting radial function\n",
    "        y_vals = []\n",
    "        for x_val in x_vals:\n",
    "            y_vals.append(sess.run(R_plot, feed_dict={x: x_val}))\n",
    "        F1_y_vals.append((step, y_vals))"
   ]
  },
  {
   "cell_type": "code",
   "execution_count": 17,
   "metadata": {},
   "outputs": [
    {
     "data": {
      "image/png": "[encoded data removed]",
      "text/plain": [
       "<Figure size 360x180 with 1 Axes>"
      ]
     },
     "metadata": {},
     "output_type": "display_data"
    }
   ],
   "source": [
    "# plot radial function and compare with -1/r^2\n",
    "\n",
    "radial_fig = plt.figure(figsize=(5,2.5))\n",
    "ax = radial_fig.add_subplot(1,1,1)\n",
    "\n",
    "min_index_cutoff = int((1 / sqrt(40.) - rbf_low) / rbf_spacing)\n",
    "ax.plot(x_vals[min_index_cutoff:], [-1 / r_**2 for r_ in x_vals[min_index_cutoff:]], \"r:\", lw=3, label=\"$-1/r^2$\")\n",
    "\n",
    "for step, y_vals in F1_y_vals[1:]:\n",
    "    line, = ax.plot(x_vals, y_vals, 'r', alpha=0.5, label=\"Step {}\".format(step))\n",
    "    line.set_ydata(y_vals)\n",
    "\n",
    "ax.plot([min_separation, min_separation], [10,-50], 'k--', label=\"Minimum distance of points\")\n",
    "ax.set_ylabel(\"Output of learned radial function.\")\n",
    "ax.set_xlabel(\"Radial distance\")\n",
    "ax.set_xlim(0., 2.0)\n",
    "ax.set_ylim(-10, 1.)\n",
    "handles, labels = ax.get_legend_handles_labels()\n",
    "ax.legend(handles, labels)\n",
    "radial_fig.canvas.draw()"
   ]
  },
  {
   "cell_type": "code",
   "execution_count": null,
   "metadata": {},
   "outputs": [],
   "source": []
  }
 ],
 "metadata": {
  "kernelspec": {
   "display_name": "Python 3",
   "language": "python",
   "name": "python3"
  },
  "language_info": {
   "codemirror_mode": {
    "name": "ipython",
    "version": 3
   },
   "file_extension": ".py",
   "mimetype": "text/x-python",
   "name": "python",
   "nbconvert_exporter": "python",
   "pygments_lexer": "ipython3",
   "version": "3.6.5"
  }
 },
 "nbformat": 4,
 "nbformat_minor": 2
}
